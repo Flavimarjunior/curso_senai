{
  "cells": [
    {
      "cell_type": "markdown",
      "id": "db7420cc",
      "metadata": {
        "id": "db7420cc"
      },
      "source": [
        "# 🔤 Manipulação de Strings em Python\n",
        "\n",
        "## Objetivo\n",
        "Neste notebook você irá aprender os principais métodos para manipular strings em Python e praticar com exercícios voltados para ciência de dados.\n",
        "\n",
        "## O que você vai aprender:\n",
        "- ✅ Métodos básicos de strings\n",
        "- ✅ Formatação e transformação de texto\n",
        "- ✅ Busca e substituição\n",
        "- ✅ Validação e limpeza de dados\n",
        "- ✅ Exercícios práticos aplicados à ciência de dados\n",
        "\n",
        "---"
      ]
    },
    {
      "cell_type": "markdown",
      "id": "a850f832",
      "metadata": {
        "id": "a850f832"
      },
      "source": [
        "## 📚 Parte 1: Descobrindo Métodos de Strings\n",
        "\n",
        "### 🔍 Atividade Interativa: Explore e Descubra!\n",
        "\n",
        "**Instruções**: Complete o código abaixo testando diferentes métodos de strings. Experimente e descubra o que cada método faz!"
      ]
    },
    {
      "cell_type": "code",
      "execution_count": 8,
      "id": "c7f8ee01",
      "metadata": {
        "id": "c7f8ee01"
      },
      "outputs": [
        {
          "name": "stdout",
          "output_type": "stream",
          "text": [
            "Texto original: 'Python é uma linguagem FANTÁSTICA!   '\n",
            "Método .upper(): PYTHON É UMA LINGUAGEM FANTÁSTICA!   \n",
            "Método .lower(): python é uma linguagem fantástica!   \n",
            "Método .capitalize(): Python é uma linguagem fantástica!   \n",
            "Método .title(): Python É Uma Linguagem Fantástica!   \n",
            "Método .strip(): Python é uma linguagem FANTÁSTICA!\n",
            "Método .lstrip(): Python é uma linguagem FANTÁSTICA!   \n",
            "Método .rstrip(): Python é uma linguagem FANTÁSTICA!\n"
          ]
        }
      ],
      "source": [
        "# 🧪 EXPERIMENTO 1: Transformação de Texto\n",
        "# Complete o código testando diferentes métodos\n",
        "\n",
        "texto = \"Python é uma linguagem FANTÁSTICA!   \"\n",
        "print(\"Texto original:\", repr(texto))\n",
        "\n",
        "# TESTE 1: Descubra o que faz cada método\n",
        "print(\"Método .upper():\", texto.upper())  # Deixa tudo MAIÚSCULO\n",
        "print(\"Método .lower():\", texto.lower())  # Deixa tudo minúsculo\n",
        "print(\"Método .capitalize():\", texto.capitalize())  # Primeira letra maiúscula\n",
        "print(\"Método .title():\", texto.title())  # Cada Palavra Com Maiúscula\n",
        "\n",
        "# TESTE 2: Removendo espaços\n",
        "print(\"Método .strip():\", texto.strip())  # Remove espaços das pontas\n",
        "print(\"Método .lstrip():\", texto.lstrip())  # Remove espaços só da esquerda\n",
        "print(\"Método .rstrip():\", texto.rstrip())  # Remove espaços só da direita\n",
        "\n",
        "# 🤔 REFLITA: Quais métodos você descobriu? Escreva aqui embaixo:\n",
        "# Método 1: capitalize faz a primeira letra da string ficar Maiúscula. \n",
        "# Método 2: title faz com que todas as primeiras letras da string fique em Maiúscula.\n",
        "# Método 3: strip faz a remoção dos espaços nas pontas. \n",
        "# Método 4: lstrip faz a remoção dos espaços no início ou na ponta da esquerda. \n",
        "# Método 5: Rstrip faz a remoção dos espaços no final ou na ponta da direita. \n"
      ]
    },
    {
      "cell_type": "markdown",
      "id": "17a829b9",
      "metadata": {
        "id": "17a829b9"
      },
      "source": [
        "### 🔍 EXPERIMENTO 2: Busca e Descoberta"
      ]
    },
    {
      "cell_type": "code",
      "execution_count": null,
      "id": "f6fb74c7",
      "metadata": {
        "id": "f6fb74c7"
      },
      "outputs": [
        {
          "name": "stdout",
          "output_type": "stream",
          "text": [
            "Frase para testar: Python é poderoso e Python é fácil\n",
            "Contém 'Python': True\n",
            "O que retorna .find('Python'): 0\n",
            "E .rfind('Python'): 20\n",
            "E .count('Python'): 2\n",
            "E .startseith('Python'): True\n",
            "E .endswith('fácil'): True\n",
            "\n",
            "🔬 Testando '12345':\n",
            "É só números? .isalnum(): True\n",
            "É alfanumérico? .isalpha(): False\n",
            "\n",
            "🔬 Testando 'abc123':\n",
            "É alfanumérico? .isalpha(): False\n",
            "\n",
            "🚀 Seus testes:\n",
            "\n",
            "É tudo maiúsculo? False\n",
            "É uma string de espaço? False\n",
            "Remove sufixo: user\n",
            "Remove sufixo: False\n"
          ]
        }
      ],
      "source": [
        "# 🔎 EXPERIMENTO 2: Métodos de Busca - Descubra você mesmo!\n",
        "\n",
        "frase = \"Python é poderoso e Python é fácil\"\n",
        "print(\"Frase para testar:\", frase)\n",
        "\n",
        "# DESAFIO: Complete os métodos e descubra o que fazem\n",
        "print(\"Contém 'Python':\", \"Python\" in frase)  # Esse você já sabe!\n",
        "\n",
        "# Agora complete estes:\n",
        "print(\"O que retorna .find('Python'):\", frase.find(\"Python\"))  # Posição da palavra\n",
        "print(\"E .rfind('Python'):\", frase.rfind(\"Python\"))             # Última posição\n",
        "print(\"E .count('Python'):\", frase.count(\"Python\"))              # Conta quantas vezes\n",
        "print(\"E .startseith('Python'):\", frase.startswith(\"Python\"))        # Começa com?\n",
        "print(\"E .endswith('fácil'):\", frase.endswith(\"fácil\"))            # Termina com?\n",
        "\n",
        "# 🧪 TESTE COM DIFERENTES TEXTOS:\n",
        "numero = \"12345\"\n",
        "texto_misto = \"abc123\"\n",
        "email = \"user@email.com\"\n",
        "\n",
        "print(f\"\\n🔬 Testando '{numero}':\")\n",
        "print(\"É só números? .isalnum():\", numero.isalnum())\n",
        "print(\"É alfanumérico? .isalpha():\", numero.isalpha())\n",
        "\n",
        "print(f\"\\n🔬 Testando '{texto_misto}':\")\n",
        "print(\"É alfanumérico? .isalpha():\", texto_misto.isalpha())\n",
        "\n",
        "# 💡 DESAFIO EXTRA: Teste outros métodos que você descobrir!\n",
        "# Tente: .isalpha(), .islower(), .isupper(), .isspace()\n",
        "print(f\"\\n🚀 Seus testes:\")\n",
        "# Escreva seus experimentos aqui:\n",
        "print(\"\\nÉ tudo maiúsculo?\", texto_misto.isupper())\n",
        "print(\"É uma string de espaço?\", texto_misto.isspace())\n",
        "print(\"Remove sufixo:\", email.removesuffix(\"@email.com\"))\n",
        "print(\"Retorna verdadeiro se a string completa for decimal:\", texto_misto.isdecimal())\n"
      ]
    },
    {
      "cell_type": "markdown",
      "id": "66e34791",
      "metadata": {
        "id": "66e34791"
      },
      "source": [
        "### ✂️ EXPERIMENTO 3: Dividir e Juntar"
      ]
    },
    {
      "cell_type": "code",
      "execution_count": null,
      "id": "17a43241",
      "metadata": {
        "id": "17a43241"
      },
      "outputs": [
        {
          "name": "stdout",
          "output_type": "stream",
          "text": [
            "String original: João,25,Engenheiro,São Paulo\n",
            "Usando .split(','): ['João', '25', 'Engenheiro', 'São Paulo']\n",
            "Usando .split(',', 2): ['João', '25', 'Engenheiro,São Paulo']\n",
            "\n",
            "Lista original: ['maçã', 'banana', 'uva', 'laranja']\n",
            "Juntando com vírgula: maçã,banana,uva,laranja\n",
            "Juntando com traço: maçã-banana-uva-laranja\n",
            "\n",
            "Texto com \\n: 'Linha 1\\nLinha 2\\nLinha 3'\n",
            "Como fica dividido: ['Linha 1', 'Linha 2', 'Linha 3']\n",
            "Dividindo 'a-b-c-d-e' por '-': ['a', 'b', 'c', 'd', 'e']\n",
            "Juntando com espaço: Python***é***incrível\n"
          ]
        }
      ],
      "source": [
        "# ✂️ EXPERIMENTO 3: Você é o Detetive dos Métodos!\n",
        "\n",
        "dados = \"João,25,Engenheiro,São Paulo\"\n",
        "print(\"String original:\", dados)\n",
        "\n",
        "# 🕵️ MISSÃO: Descubra como dividir strings\n",
        "print(\"Usando .split(','):\", dados.split(\",\"))      # Divide por vírgula\n",
        "print(\"Usando .split(',', 2):\", dados.split(\",\", 2))  # Divide só 2 vezes\n",
        "\n",
        "# 🧩 MISSÃO: Descubra como juntar listas\n",
        "lista_frutas = [\"maçã\", \"banana\", \"uva\", \"laranja\"]\n",
        "print(\"\\nLista original:\", lista_frutas)\n",
        "\n",
        "print(\"Juntando com vírgula:\", \",\" .join(lista_frutas))     # Junta com vírgula\n",
        "print(\"Juntando com traço:\", \"-\" .join(lista_frutas))      # Junta com \" - \"\n",
        "\n",
        "# 🎯 DESAFIO ESPECIAL: Texto com quebras de linha\n",
        "texto_linhas = \"Linha 1\\nLinha 2\\nLinha 3\"\n",
        "print(f\"\\nTexto com \\\\n:\", repr(texto_linhas))\n",
        "print(\"Como fica dividido:\", texto_linhas.splitlines())           # Divide por linhas\n",
        "\n",
        "# 🚀 EXPERIMENTE VOCÊ:\n",
        "# 1. Tente dividir por outros separadores:\n",
        "seu_texto = \"a-b-c-d-e\"\n",
        "print(f\"Dividindo '{seu_texto}' por '-':\", seu_texto.split(\"-\"))\n",
        "\n",
        "# 2. Tente juntar com outros separadores:\n",
        "sua_lista = [\"Python\", \"é\", \"incrível\"]\n",
        "print(f\"Juntando com espaço:\", \"***\".join(sua_lista))\n",
        "\n",
        "# 📝 ANOTE SUAS DESCOBERTAS:\n",
        "# Método .split() faz: Ele divide as strings de acordo com o separador escolhido. \n",
        "# Método .join() faz: Ele junta as strings de acordo com o separador escolhido. "
      ]
    },
    {
      "cell_type": "markdown",
      "id": "d780bb8e",
      "metadata": {
        "id": "d780bb8e"
      },
      "source": [
        "### 🔄 EXPERIMENTO 4: Substituir e Formatar"
      ]
    },
    {
      "cell_type": "code",
      "execution_count": 84,
      "id": "3ca41275",
      "metadata": {
        "id": "3ca41275"
      },
      "outputs": [
        {
          "name": "stdout",
          "output_type": "stream",
          "text": [
            "Texto original: Python é incrível. Python é versátil. Python é poderoso.\n",
            "Usando .replace('Python', 'Java'): Data Science é incrível. Data Science é versátil. Data Science é poderoso.\n",
            "Limitando a 2 substituições: Data Science é incrível. Data Science é versátil. Python é poderoso.\n",
            "Substitua 'é' por 'será': Python será incrível. Python será versátil. Python será poderoso.\n",
            "\n",
            "Nome: Maria\n",
            "Idade: 28 anos\n",
            "Salário: R$ 5500.50\n",
            "Olá Maria, você tem 28 anos \n",
            "\n",
            "Normal: 'PYTHON'\n",
            "Com :^20: '       PYTHON       '\n",
            "Com :<20: 'PYTHON              '\n",
            "Com :>20: '              PYTHON'\n",
            "Com :*^20: '*******PYTHON*******'\n"
          ]
        }
      ],
      "source": [
        "# 🔄 EXPERIMENTO 4: O Laboratório de Substituição e Formatação\n",
        "\n",
        "texto = \"Python é incrível. Python é versátil. Python é poderoso.\"\n",
        "print(\"Texto original:\", texto)\n",
        "\n",
        "# 🔬 DESCOBERTA 1: Método de substituição\n",
        "print(\"Usando .replace('Python', 'Java'):\", texto.replace(\"Python\", \"Data Science\"))\n",
        "print(\"Limitando a 2 substituições:\", texto.replace(\"Python\", \"Data Science\", 2))\n",
        "\n",
        "# 🧪 TESTE VOCÊ: Tente substituir outras palavras\n",
        "print(\"Substitua 'é' por 'será':\", texto.replace(\"é\", \"será\"))\n",
        "\n",
        "# 🎨 DESCOBERTA 2: Formatação de strings\n",
        "nome = \"Maria\"\n",
        "idade = 28\n",
        "salario = 5500.50\n",
        "\n",
        "# Complete os f-strings:\n",
        "print(f\"\\nNome: {nome}\")                    # Mostra: Nome: Maria\n",
        "print(f\"Idade: {idade} anos\")              # Mostra: Idade: 28 anos\n",
        "print(f\"Salário: R$ {salario:.2f}\")          # Mostra: Salário: R$ 5500.50\n",
        "\n",
        "# 🎯 DESAFIO: Use o método .format()\n",
        "template = \"Olá {}, você tem {} anos\"\n",
        "print(template.format(nome, idade),\"\\n\")       # Complete com nome e idade\n",
        "\n",
        "# 🎪 EXPERIMENTO DE ALINHAMENTO:\n",
        "palavra = \"PYTHON\"\n",
        "print(f\"Normal: '{palavra}'\")\n",
        "\n",
        "# Descubra o que fazem estes símbolos:\n",
        "print(f\"Com :^20: '{palavra:^20}'\")         # O que faz o ^?\n",
        "print(f\"Com :<20: '{palavra:<20}'\")         # O que faz o <?\n",
        "print(f\"Com :>20: '{palavra:>20}'\")         # O que faz o >?\n",
        "print(f\"Com :*^20: '{palavra:*^20}'\")       # E o *?\n",
        "\n",
        "# 🚀 CRIE SEUS EXPERIMENTOS:\n",
        "seu_nome = \"SEU_NOME_AQUI\"\n",
        "# Tente centralizar seu nome com 30 caracteres usando ^\n",
        "# Tente alinhar à direita com >\n",
        "# Tente preencher com símbolos diferentes\n",
        "\n",
        "# 📝 SUAS DESCOBERTAS:\n",
        "# .replace() faz: substitui e caracter ou string por outra desejada. \n",
        "# f-strings servem para: String que permite a inserção de variáveis diretamente dentro da string.\n",
        "# ^ no formato significa: Que a string ficará centralizada e com um número determinado de espaços, que podem ser vazios ou com algum caractér escolhido. "
      ]
    },
    {
      "cell_type": "code",
      "execution_count": 1,
      "id": "3ae608f8",
      "metadata": {
        "id": "3ae608f8"
      },
      "outputs": [
        {
          "name": "stdout",
          "output_type": "stream",
          "text": [
            "🧪 LABORATÓRIO DE MÉTODOS:\n",
            "Texto original: '  PYTHON é incrível!  '\n",
            "\n",
            "MÉTODO                    | RESULTADO                        | O QUE FAZ\n",
            "--------------------------------------------------------------------------------\n",
            ".upper()                  | '  PYTHON É INCRÍVEL!  '              | Deixa o texto maiúsculo\n",
            ".lower()                  | '  python é incrível!  '              | Deixa o texto minúsculo\n",
            ".strip()                  | 'PYTHON é incrível!'              | Remove os espaços em branco da string\n",
            ".title()                  | '  Python É Incrível!  '              | Deixa todas as primeiras letras das strings maiúsculas\n",
            ".replace('PYTHON','Java') | '  Java é incrível!  ' | Substitui a palavra PYTHON pela palavra Java na string\n",
            "\n",
            "🔍 TESTES DE BUSCA com 'Python é poderoso':\n",
            ".find('Python')           | 0         | Busca a primeira posição da primeira ocorrência da palavra\n",
            ".count('o')               | 4             | Conta a ocorrência da letra 'o'\n",
            ".startswith('Python')     | True   | Verifica se a string começa com a palavra 'Python'\n",
            "\n",
            "✂️ TESTE DE DIVISÃO com 'a,b,c,d':\n",
            ".split(',')               | ['a', 'b', 'c', 'd']              | Divide a string com o separador ','\n",
            "\n",
            "🎉 Parabéns! Agora você conhece os métodos básicos de strings!\n",
            "💪 Hora de partir para os exercícios práticos!\n"
          ]
        }
      ],
      "source": [
        "# 📋 RESUMO INTERATIVO: Complete com o que você descobriu!\n",
        "\n",
        "texto_teste = \"  PYTHON é incrível!  \"\n",
        "\n",
        "# Complete a tabela de métodos que você descobriu:\n",
        "print(\"🧪 LABORATÓRIO DE MÉTODOS:\")\n",
        "print(f\"Texto original: '{texto_teste}'\")\n",
        "print()\n",
        "\n",
        "print(\"MÉTODO                    | RESULTADO                        | O QUE FAZ\")\n",
        "print(\"-\" * 80)\n",
        "\n",
        "# Complete você mesmo testando cada método:\n",
        "print(f\".upper()                  | '{texto_teste.upper()}'              | Deixa o texto maiúsculo\")\n",
        "print(f\".lower()                  | '{texto_teste.lower()}'              | Deixa o texto minúsculo\")\n",
        "print(f\".strip()                  | '{texto_teste.strip()}'              | Remove os espaços em branco da string\")\n",
        "print(f\".title()                  | '{texto_teste.title()}'              | Deixa todas as primeiras letras das strings maiúsculas\")\n",
        "print(f\".replace('PYTHON','Java') | '{texto_teste.replace('PYTHON','Java')}' | Substitui a palavra PYTHON pela palavra Java na string\")\n",
        "\n",
        "# Teste de busca:\n",
        "frase_teste = \"Python é poderoso\"\n",
        "print(f\"\\n🔍 TESTES DE BUSCA com '{frase_teste}':\")\n",
        "print(f\".find('Python')           | {frase_teste.find('Python')}         | Busca a primeira posição da primeira ocorrência da palavra\")\n",
        "print(f\".count('o')               | {frase_teste.count('o')}             | Conta a ocorrência da letra 'o'\")\n",
        "print(f\".startswith('Python')     | {frase_teste.startswith('Python')}   | Verifica se a string começa com a palavra 'Python'\")\n",
        "\n",
        "# Teste de divisão:\n",
        "dados_teste = \"a,b,c,d\"\n",
        "print(f\"\\n✂️ TESTE DE DIVISÃO com '{dados_teste}':\")\n",
        "print(f\".split(',')               | {dados_teste.split(',')}              | Divide a string com o separador ','\")\n",
        "\n",
        "print(\"\\n🎉 Parabéns! Agora você conhece os métodos básicos de strings!\")\n",
        "print(\"💪 Hora de partir para os exercícios práticos!\")"
      ]
    },
    {
      "cell_type": "code",
      "execution_count": null,
      "id": "39fb9b6b",
      "metadata": {},
      "outputs": [],
      "source": []
    },
    {
      "cell_type": "markdown",
      "id": "cfda5a8c",
      "metadata": {
        "id": "cfda5a8c"
      },
      "source": [
        "---\n",
        "\n",
        "## 🎯 Parte 2: Exercícios Práticos de Ciência de Dados\n",
        "\n",
        "**Agora que você descobriu os métodos, vamos aplicá-los em situações reais de ciência de dados!**"
      ]
    },
    {
      "cell_type": "markdown",
      "id": "16ef839c",
      "metadata": {
        "id": "16ef839c"
      },
      "source": [
        "### 🧠 TESTE SEU CONHECIMENTO: Complete a Tabela\n",
        "\n",
        "**Antes de partir para os exercícios, vamos ver o que você descobriu!**\n",
        "\n",
        "### 🔬 Exercício 1: Limpeza Básica de Nomes\n",
        "**Desafio**: Limpe uma lista de nomes de clientes que estão bagunçados.\n",
        "\n",
        "**Cenário**: Você trabalha em uma empresa e precisa organizar os nomes dos clientes.\n",
        "\n",
        "**Requisitos Simples**:\n",
        "- Remover espaços extras no início e fim\n",
        "- Deixar todas as primeiras letras maiúsculas (formato título)\n",
        "- Contar quantos nomes foram limpos\n",
        "- Mostrar antes e depois da limpeza"
      ]
    },
    {
      "cell_type": "code",
      "execution_count": 146,
      "id": "9f082f7a",
      "metadata": {
        "id": "9f082f7a"
      },
      "outputs": [
        {
          "name": "stdout",
          "output_type": "stream",
          "text": [
            "🧹 Limpeza de Nomes:\n",
            "Nomes originais: ['  joão silva  ', 'MARIA SANTOS', '  pedro costa', 'ANA OLIVEIRA  ', '  carlos ferreira  ', 'lucia almeida']\n",
            "\n",
            "Nomes limpos: ['João Silva', 'Maria Santos', 'Pedro Costa', 'Ana Oliveira', 'Carlos Ferreira', 'Lucia Almeida']\n",
            "\n",
            "📊 Comparação:\n",
            "1: '  joão silva  ' → 'João Silva'\n",
            "2: 'MARIA SANTOS' → 'Maria Santos'\n",
            "3: '  pedro costa' → 'Pedro Costa'\n",
            "4: 'ANA OLIVEIRA  ' → 'Ana Oliveira'\n",
            "5: '  carlos ferreira  ' → 'Carlos Ferreira'\n",
            "6: 'lucia almeida' → 'Lucia Almeida'\n"
          ]
        }
      ],
      "source": [
        "def limpar_nomes(lista_nomes):\n",
        "    \"\"\"\n",
        "    Limpa uma lista de nomes bagunçados\n",
        "    \"\"\"\n",
        "    # SEU CÓDIGO AQUI\n",
        "    # Dicas:\n",
        "    # - Use .strip() para remover espaços\n",
        "    # - Use .title() para formato título\n",
        "    # - Use um loop para processar cada nome\n",
        "    nomes_formatados = []\n",
        "    for nome in lista_nomes:\n",
        "        nome_limpo = nome.strip().title()\n",
        "        nomes_formatados.append(nome_limpo)\n",
        "    return nomes_formatados\n",
        "\n",
        "    pass #usado pra deixar um bloco vazio \n",
        "\n",
        "# Lista de nomes bagunçados\n",
        "nomes_sujos = [\n",
        "    \"  joão silva  \",\n",
        "    \"MARIA SANTOS\",\n",
        "    \"  pedro costa\",\n",
        "    \"ANA OLIVEIRA  \",\n",
        "    \"  carlos ferreira  \",\n",
        "    \"lucia almeida\"\n",
        "]\n",
        "\n",
        "print(\"🧹 Limpeza de Nomes:\")\n",
        "print(\"Nomes originais:\", nomes_sujos)\n",
        "\n",
        "nomes_limpos = limpar_nomes(nomes_sujos)\n",
        "print(\"\\nNomes limpos:\", nomes_limpos)\n",
        "\n",
        "# Comparação lado a lado\n",
        "print(\"\\n📊 Comparação:\")\n",
        "for i, (original, limpo) in enumerate(zip(nomes_sujos, nomes_limpos)):\n",
        "    print(f\"{i+1}: '{original}' → '{limpo}'\")"
      ]
    },
    {
      "cell_type": "markdown",
      "id": "4114f33c",
      "metadata": {
        "id": "4114f33c"
      },
      "source": [
        "### 📊 Exercício 2: Contador de Palavras Positivas\n",
        "**Desafio**: Conte palavras positivas e negativas em comentários de clientes.\n",
        "\n",
        "**Cenário**: Loja online quer saber se os comentários são positivos ou negativos.\n",
        "\n",
        "**Requisitos Simples**:\n",
        "- Contar palavras positivas como: \"bom\", \"ótimo\", \"excelente\", \"amei\"\n",
        "- Contar palavras negativas como: \"ruim\", \"péssimo\", \"horrível\", \"odeio\"\n",
        "- Dizer se o comentário é mais positivo ou negativo\n",
        "- Mostrar quantas palavras de cada tipo foram encontradas"
      ]
    },
    {
      "cell_type": "code",
      "execution_count": 2,
      "id": "6c501432",
      "metadata": {
        "id": "6c501432"
      },
      "outputs": [
        {
          "name": "stdout",
          "output_type": "stream",
          "text": [
            "💭 Análise de Comentários:\n",
            "\n",
            "Comentário 1: Produto bom, gostei muito!\n",
            "Positivas: 2 | Negativas: 0\n",
            "Sentimento: Mais positivo\n",
            "\n",
            "Comentário 2: Péssimo atendimento, muito ruim.\n",
            "Positivas: 0 | Negativas: 2\n",
            "Sentimento: Mais negativo\n",
            "\n",
            "Comentário 3: Excelente qualidade, amei o produto!\n",
            "Positivas: 2 | Negativas: 0\n",
            "Sentimento: Mais positivo\n",
            "\n",
            "Comentário 4: Horrível experiência, odeio esta loja.\n",
            "Positivas: 0 | Negativas: 2\n",
            "Sentimento: Mais negativo\n",
            "\n",
            "Comentário 5: Produto ótimo, recomendo!\n",
            "Positivas: 2 | Negativas: 0\n",
            "Sentimento: Mais positivo\n",
            "\n",
            "Comentário 6: Muito ruim, não funcionou.\n",
            "Positivas: 0 | Negativas: 2\n",
            "Sentimento: Mais negativo\n",
            "\n",
            "📊 Totais gerais:\n",
            "Total de palavras positivas: 6\n",
            "Total de palavras negativas: 6\n"
          ]
        }
      ],
      "source": [
        "def analisar_comentarios(comentarios):\n",
        "    \"\"\"\n",
        "    Analisa comentários e conta palavras positivas/negativas\n",
        "    \"\"\"\n",
        "    # SEU CÓDIGO AQUI\n",
        "    # Dicas:\n",
        "    # - Use .lower() para converter para minúsculo\n",
        "    # - Use 'palavra in comentario' para verificar se palavra existe\n",
        "    # - Conte quantas vezes cada tipo de palavra aparece\n",
        "\n",
        "    # Listas de palavras-chave\n",
        "    positivas = [\"bom\", \"ótimo\", \"excelente\", \"gostei\", \"amei\", \"recomendo\"]\n",
        "    negativas = [\"ruim\", \"péssimo\", \"horrível\", \"odeio\", \"não funcionou\"]\n",
        "\n",
        "    total_positivas = 0\n",
        "    total_negativas = 0\n",
        "    comentario_final = []\n",
        "\n",
        "    for comentario in comentarios:\n",
        "        c = comentario.lower()\n",
        "\n",
        "        pos_count = sum(c.count(p) for p in positivas)\n",
        "        neg_count = sum(c.count(n) for n in negativas)\n",
        "\n",
        "        total_positivas += pos_count\n",
        "        total_negativas += neg_count\n",
        "\n",
        "        sentimento = (\n",
        "            \"Mais positivo\" if pos_count > neg_count else\n",
        "            \"Mais negativo\" if neg_count > pos_count else\n",
        "            \"Neutro ou equilibrado\"\n",
        "        )\n",
        "\n",
        "        comentario_final.append({\n",
        "            \"comentario\": comentario,\n",
        "            \"positivas\": pos_count,\n",
        "            \"negativas\": neg_count,\n",
        "            \"sentimento\": sentimento\n",
        "        })\n",
        "\n",
        "    return comentario_final, total_positivas, total_negativas\n",
        "\n",
        "\n",
        "# Lista de comentários simples\n",
        "comentarios = [\n",
        "    \"Produto bom, gostei muito!\",\n",
        "    \"Péssimo atendimento, muito ruim.\",\n",
        "    \"Excelente qualidade, amei o produto!\",\n",
        "    \"Horrível experiência, odeio esta loja.\",\n",
        "    \"Produto ótimo, recomendo!\",\n",
        "    \"Muito ruim, não funcionou.\"\n",
        "]\n",
        "\n",
        "print(\"💭 Análise de Comentários:\")\n",
        "resultado = analisar_comentarios(comentarios)\n",
        "comentario_final, total_positivas, total_negativas = resultado\n",
        "\n",
        "# Exemplo de como pode ficar o resultado:o\n",
        "for i, comentario in enumerate(comentario_final):\n",
        "    print(f\"\\nComentário {i+1}: {comentario['comentario']}\")\n",
        "    print(f\"Positivas: {comentario['positivas']} | Negativas: {comentario['negativas']}\")\n",
        "    print(f\"Sentimento: {comentario['sentimento']}\")\n",
        "\n",
        "print(\"\\n📊 Totais gerais:\")\n",
        "print(f\"Total de palavras positivas: {total_positivas}\")\n",
        "print(f\"Total de palavras negativas: {total_negativas}\")\n",
        "    \n",
        "#     # Mostrar resultado da análise"
      ]
    },
    {
      "cell_type": "markdown",
      "id": "4086ee90",
      "metadata": {
        "id": "4086ee90"
      },
      "source": [
        "### 🏗️ Exercício 3: Separador de Informações Simples\n",
        "**Desafio**: Separe informações de uma lista de dados misturados.\n",
        "\n",
        "**Cenário**: Você tem dados de vendas em formato texto e precisa organizar.\n",
        "\n",
        "**Requisitos Simples**:\n",
        "- Separar nome do produto, preço e categoria\n",
        "- Os dados estão separados por vírgula\n",
        "- Mostrar cada informação separadamente\n",
        "- Contar quantos produtos existem"
      ]
    },
    {
      "cell_type": "code",
      "execution_count": 6,
      "id": "d2483048",
      "metadata": {
        "id": "d2483048"
      },
      "outputs": [
        {
          "name": "stdout",
          "output_type": "stream",
          "text": [
            "🛒 Separação de Dados de Vendas:\n",
            "Dados originais:\n",
            "  Notebook Dell, R$ 2500.00, Eletrônicos\n",
            "  Mouse Logitech, R$ 89.90, Acessórios\n",
            "  Teclado Mecânico, R$ 299.99, Acessórios\n",
            "  Monitor Samsung, R$ 899.00, Eletrônicos\n",
            "  Cabo USB, R$ 25.50, Acessórios\n",
            "\n",
            "📊 Dados Organizados:\n",
            "Produto              | Preço      | Categoria   \n",
            "--------------------------------------------------\n",
            "Notebook Dell        | R$ 2500.00 | Eletrônicos \n",
            "Mouse Logitech       | R$ 89.90   | Acessórios  \n",
            "Teclado Mecânico     | R$ 299.99  | Acessórios  \n",
            "Monitor Samsung      | R$ 899.00  | Eletrônicos \n",
            "Cabo USB             | R$ 25.50   | Acessórios  \n",
            "\n",
            "📈 Resumo:\n",
            "Total de produtos: 5\n"
          ]
        }
      ],
      "source": [
        "def separar_dados_vendas(lista_vendas):\n",
        "    \"\"\"\n",
        "    Separa informações de vendas que estão em formato texto\n",
        "    \"\"\"\n",
        "    # SEU CÓDIGO AQUI\n",
        "    # Dicas:\n",
        "    # - Use .split(',') para separar por vírgula\n",
        "    # - Use .strip() para remover espaços extras\n",
        "    # - Organize as informações em listas ou dicionários\n",
        "    dados_organizados = []\n",
        "    for venda in lista_vendas:\n",
        "        partes = venda.split(\",\")\n",
        "        produto = partes[0].strip()\n",
        "        preco = partes[1].strip()\n",
        "        categoria = partes[2].strip()\n",
        "        dados_organizados.append({\n",
        "            \"produto\": produto,\n",
        "            \"preco\": preco,\n",
        "            \"categoria\": categoria\n",
        "        })\n",
        "    return dados_organizados\n",
        "\n",
        "# Dados de vendas em formato texto\n",
        "vendas_texto = [\n",
        "    \"Notebook Dell, R$ 2500.00, Eletrônicos\",\n",
        "    \"Mouse Logitech, R$ 89.90, Acessórios\",\n",
        "    \"Teclado Mecânico, R$ 299.99, Acessórios\",\n",
        "    \"Monitor Samsung, R$ 899.00, Eletrônicos\",\n",
        "    \"Cabo USB, R$ 25.50, Acessórios\"\n",
        "]\n",
        "\n",
        "print(\"🛒 Separação de Dados de Vendas:\")\n",
        "print(\"Dados originais:\")\n",
        "for venda in vendas_texto:\n",
        "    print(f\"  {venda}\")\n",
        "\n",
        "dados_separados = separar_dados_vendas(vendas_texto)\n",
        "print(f\"\\n📊 Dados Organizados:\")\n",
        "# Mostrar como ficaram os dados separados\n",
        "\n",
        "print(f\"{'Produto':<20} | {'Preço':<10} | {'Categoria':<12}\")\n",
        "print(\"-\" * 50)\n",
        "for item in dados_separados:\n",
        "    print(f\"{item['produto']:<20} | {item['preco']:<10} | {item['categoria']:<12}\")\n",
        "\n",
        "\n",
        "print(f\"\\n📈 Resumo:\")\n",
        "print(f\"Total de produtos: {len(vendas_texto)}\")\n",
        "# Você pode adicionar mais estatísticas simples"
      ]
    },
    {
      "cell_type": "markdown",
      "id": "cae7b17c",
      "metadata": {
        "id": "cae7b17c"
      },
      "source": [
        "### 🛒 Exercício 4: Verificador de Emails Simples\n",
        "**Desafio**: Verifique se emails estão em formato básico correto.\n",
        "\n",
        "**Cenário**: Cadastro de clientes precisa validar emails antes de salvar.\n",
        "\n",
        "**Requisitos Simples**:\n",
        "- Verificar se o email contém o símbolo @\n",
        "- Verificar se tem pelo menos um ponto depois do @\n",
        "- Contar quantos emails são válidos e inválidos\n",
        "- Mostrar quais emails têm problemas"
      ]
    },
    {
      "cell_type": "code",
      "execution_count": 10,
      "id": "e30758e8",
      "metadata": {
        "id": "e30758e8"
      },
      "outputs": [
        {
          "name": "stdout",
          "output_type": "stream",
          "text": [
            "📧 Verificação de Emails:\n",
            "Emails para verificar:\n",
            "  joao@email.com\n",
            "  maria.silva@gmail.com\n",
            "  pedro@empresa\n",
            "  ana@\n",
            "  carlos.costa@yahoo.com.br\n",
            "  lucia@hotmail\n",
            "  email_sem_arroba.com\n",
            "  fernando@outlook.com\n",
            "\n",
            "✅ Resultado da Verificação:\n",
            "joao@email.com: Válido ✅\n",
            "maria.silva@gmail.com: Válido ✅\n",
            "pedro@empresa: Inválido ❌\n",
            "ana@: Inválido ❌\n",
            "carlos.costa@yahoo.com.br: Válido ✅\n",
            "lucia@hotmail: Inválido ❌\n",
            "email_sem_arroba.com: Inválido ❌\n",
            "fernando@outlook.com: Válido ✅\n",
            "\n",
            "📊 Estatísticas:\n",
            "Emails válidos: 4\n",
            "Emails inválidos: 4\n"
          ]
        }
      ],
      "source": [
        "def verificar_emails(lista_emails):\n",
        "    \"\"\"\n",
        "    Verifica se emails estão em formato básico correto\n",
        "    \"\"\"\n",
        "    # SEU CÓDIGO AQUI\n",
        "    # Dicas:\n",
        "    # - Use 'in' para verificar se @ existe no email\n",
        "    # - Use .find('@') para encontrar a posição do @\n",
        "    # - Verifique se existe '.' depois do @\n",
        "    resultados = {}\n",
        "    for email in lista_emails:\n",
        "        if \"@\" in email:\n",
        "            pos_arroba = email.find(\"@\")\n",
        "            if \".\" in email[pos_arroba:]:\n",
        "                resultados[email] = \"Válido ✅\"\n",
        "            else:\n",
        "                resultados[email] = \"Inválido ❌\"\n",
        "        else:\n",
        "            resultados[email] = \"Inválido ❌\"\n",
        "    return resultados\n",
        "\n",
        "# Lista de emails para verificar\n",
        "emails_teste = [\n",
        "    \"joao@email.com\",\n",
        "    \"maria.silva@gmail.com\",\n",
        "    \"pedro@empresa\",  # sem .com\n",
        "    \"ana@\",  # incompleto\n",
        "    \"carlos.costa@yahoo.com.br\",\n",
        "    \"lucia@hotmail\",  # sem .com\n",
        "    \"email_sem_arroba.com\",  # sem @\n",
        "    \"fernando@outlook.com\"\n",
        "]\n",
        "\n",
        "print(\"📧 Verificação de Emails:\")\n",
        "print(\"Emails para verificar:\")\n",
        "for email in emails_teste:\n",
        "    print(f\"  {email}\")\n",
        "\n",
        "resultado = verificar_emails(emails_teste)\n",
        "print(f\"\\n✅ Resultado da Verificação:\")\n",
        "# Mostrar quais emails são válidos/inválidos\n",
        "for email, status in resultado.items():\n",
        "    print(f\"{email}: {status}\")\n",
        "\n",
        "print(f\"\\n📊 Estatísticas:\")\n",
        "# Contar válidos e inválidos\n",
        "validos = sum(1 for status in resultado.values() if status == \"Válido ✅\")\n",
        "invalidos = len(resultado) - validos\n",
        "print(f\"Emails válidos: {validos}\")\n",
        "print(f\"Emails inválidos: {invalidos}\") "
      ]
    },
    {
      "cell_type": "markdown",
      "id": "3511dd8f",
      "metadata": {
        "id": "3511dd8f"
      },
      "source": [
        "### 📈 Exercício 5: Organizador de Telefones\n",
        "**Desafio**: Organize números de telefone que estão em formatos diferentes.\n",
        "\n",
        "**Cenário**: Lista de contatos está bagunçada com telefones em vários formatos.\n",
        "\n",
        "**Requisitos Simples**:\n",
        "- Remover parênteses, espaços e hífens dos telefones\n",
        "- Deixar apenas os números\n",
        "- Verificar se o telefone tem 10 ou 11 dígitos (formato brasileiro)\n",
        "- Mostrar telefones organizados e identificar os inválidos"
      ]
    },
    {
      "cell_type": "code",
      "execution_count": 11,
      "id": "61e9986f",
      "metadata": {
        "id": "61e9986f"
      },
      "outputs": [
        {
          "name": "stdout",
          "output_type": "stream",
          "text": [
            "📱 Organização de Telefones:\n",
            "Telefones originais:\n",
            "  (11) 99999-8888\n",
            "  11 98888-7777\n",
            "  11987776666\n",
            "  (21)96666-5555\n",
            "  11 9555-444\n",
            "  (85) 99999-8888\n",
            "  abc-def-ghij\n",
            "  11 99988-77766\n",
            "\n",
            "📞 Telefones Organizados:\n",
            "'(11) 99999-8888' → '11999998888'\n",
            "'11 98888-7777' → '11988887777'\n",
            "'11987776666' → '11987776666'\n",
            "'(21)96666-5555' → '21966665555'\n",
            "'11 9555-444' → 'Inválido'\n",
            "'(85) 99999-8888' → '85999998888'\n",
            "'abc-def-ghij' → 'Inválido'\n",
            "'11 99988-77766' → 'Inválido'\n",
            "\n",
            "📊 Resumo:\n",
            "Telefones válidos: 5\n",
            "Telefones inválidos: 3\n"
          ]
        }
      ],
      "source": [
        "def organizar_telefones(lista_telefones):\n",
        "    \"\"\"\n",
        "    Organiza números de telefone removendo formatação\n",
        "    \"\"\"\n",
        "    # SEU CÓDIGO AQUI\n",
        "    # Dicas:\n",
        "    # - Use .replace() para remover (, ), -, espaços\n",
        "    # - Use .isdigit() para verificar se são só números\n",
        "    # - Use len() para verificar se tem 10 ou 11 dígitos\n",
        "    telefones_formatados = []\n",
        "    for telefone in lista_telefones:    \n",
        "        telefone_limpo = telefone.replace(\"(\", \"\").replace(\")\", \"\").replace(\"-\", \"\").replace(\" \", \"\")\n",
        "        if telefone_limpo.isdigit() and len(telefone_limpo) in [10, 11]:\n",
        "            telefones_formatados.append(telefone_limpo)\n",
        "        else:\n",
        "            telefones_formatados.append(\"Inválido\")\n",
        "    return telefones_formatados\n",
        "\n",
        "# Lista de telefones bagunçados\n",
        "telefones_sujos = [\n",
        "    \"(11) 99999-8888\",\n",
        "    \"11 98888-7777\",\n",
        "    \"11987776666\",  # sem formatação\n",
        "    \"(21)96666-5555\",\n",
        "    \"11 9555-444\",  # muito curto\n",
        "    \"(85) 99999-8888\",\n",
        "    \"abc-def-ghij\",  # não é número\n",
        "    \"11 99988-77766\"  # muito longo\n",
        "]\n",
        "\n",
        "print(\"📱 Organização de Telefones:\")\n",
        "print(\"Telefones originais:\")\n",
        "for telefone in telefones_sujos:\n",
        "    print(f\"  {telefone}\")\n",
        "\n",
        "telefones_organizados = organizar_telefones(telefones_sujos)\n",
        "print(f\"\\n📞 Telefones Organizados:\")\n",
        "# Mostrar resultado\n",
        "for original, organizado in zip(telefones_sujos, telefones_organizados):\n",
        "    print(f\"'{original}' → '{organizado}'\")\n",
        "\n",
        "\n",
        "print(f\"\\n📊 Resumo:\")\n",
        "# Contar válidos e inválidos\n",
        "validos = sum(1 for status in telefones_organizados if status != \"Inválido\")\n",
        "invalidos = len(telefones_organizados) - validos\n",
        "print(f\"Telefones válidos: {validos}\")\n",
        "print(f\"Telefones inválidos: {invalidos}\")  "
      ]
    }
  ],
  "metadata": {
    "colab": {
      "provenance": []
    },
    "kernelspec": {
      "display_name": "base",
      "language": "python",
      "name": "python3"
    },
    "language_info": {
      "codemirror_mode": {
        "name": "ipython",
        "version": 3
      },
      "file_extension": ".py",
      "mimetype": "text/x-python",
      "name": "python",
      "nbconvert_exporter": "python",
      "pygments_lexer": "ipython3",
      "version": "3.11.5"
    }
  },
  "nbformat": 4,
  "nbformat_minor": 5
}
